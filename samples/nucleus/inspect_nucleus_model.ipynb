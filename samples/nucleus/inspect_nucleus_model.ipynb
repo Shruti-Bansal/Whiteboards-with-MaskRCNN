{
 "cells": [
  {
   "cell_type": "markdown",
   "metadata": {},
   "source": [
    "# Mask R-CNN - Inspect Nucleus Trained Model\n",
    "\n",
    "Code and visualizations to test, debug, and evaluate the Mask R-CNN model."
   ]
  },
  {
   "cell_type": "code",
   "execution_count": 1,
   "metadata": {
    "scrolled": false
   },
   "outputs": [
    {
     "name": "stderr",
     "output_type": "stream",
     "text": [
      "/usr/local/lib/python3.5/dist-packages/h5py/__init__.py:36: FutureWarning: Conversion of the second argument of issubdtype from `float` to `np.floating` is deprecated. In future, it will be treated as `np.float64 == np.dtype(float).type`.\n",
      "  from ._conv import register_converters as _register_converters\n",
      "Using TensorFlow backend.\n"
     ]
    }
   ],
   "source": [
    "import os\n",
    "import sys\n",
    "import random\n",
    "import math\n",
    "import re\n",
    "import time\n",
    "import numpy as np\n",
    "import tensorflow as tf\n",
    "import matplotlib\n",
    "import matplotlib.pyplot as plt\n",
    "import matplotlib.patches as patches\n",
    "\n",
    "# Root directory of the project\n",
    "ROOT_DIR = os.path.abspath(\"../../\")\n",
    "\n",
    "# Import Mask RCNN\n",
    "sys.path.append(ROOT_DIR)  # To find local version of the library\n",
    "from mrcnn import utils\n",
    "from mrcnn import visualize\n",
    "from mrcnn.visualize import display_images\n",
    "import mrcnn.model as modellib\n",
    "from mrcnn.model import log\n",
    "\n",
    "import nucleus\n",
    "\n",
    "%matplotlib inline \n",
    "\n",
    "# Directory to save logs and trained model\n",
    "LOGS_DIR = os.path.join(ROOT_DIR, \"logs\")"
   ]
  },
  {
   "cell_type": "code",
   "execution_count": 2,
   "metadata": {},
   "outputs": [],
   "source": [
    "# Comment out to reload imported modules if they change\n",
    "# %load_ext autoreload\n",
    "# %autoreload 2"
   ]
  },
  {
   "cell_type": "markdown",
   "metadata": {},
   "source": [
    "## Configurations"
   ]
  },
  {
   "cell_type": "code",
   "execution_count": 3,
   "metadata": {},
   "outputs": [
    {
     "name": "stdout",
     "output_type": "stream",
     "text": [
      "\n",
      "Configurations:\n",
      "BACKBONE                       resnet50\n",
      "BACKBONE_STRIDES               [4, 8, 16, 32, 64]\n",
      "BATCH_SIZE                     1\n",
      "BBOX_STD_DEV                   [0.1 0.1 0.2 0.2]\n",
      "DETECTION_MAX_INSTANCES        400\n",
      "DETECTION_MIN_CONFIDENCE       0\n",
      "DETECTION_NMS_THRESHOLD        0.3\n",
      "GPU_COUNT                      1\n",
      "GRADIENT_CLIP_NORM             5.0\n",
      "IMAGES_PER_GPU                 1\n",
      "IMAGE_MAX_DIM                  512\n",
      "IMAGE_META_SIZE                14\n",
      "IMAGE_MIN_DIM                  512\n",
      "IMAGE_MIN_SCALE                2.0\n",
      "IMAGE_RESIZE_MODE              pad64\n",
      "IMAGE_SHAPE                    [512 512   3]\n",
      "LEARNING_MOMENTUM              0.9\n",
      "LEARNING_RATE                  0.001\n",
      "MASK_POOL_SIZE                 14\n",
      "MASK_SHAPE                     [28, 28]\n",
      "MAX_GT_INSTANCES               200\n",
      "MEAN_PIXEL                     [43.53 39.56 48.22]\n",
      "MINI_MASK_SHAPE                (56, 56)\n",
      "NAME                           nucleus\n",
      "NUM_CLASSES                    2\n",
      "POOL_SIZE                      7\n",
      "POST_NMS_ROIS_INFERENCE        2000\n",
      "POST_NMS_ROIS_TRAINING         1000\n",
      "ROI_POSITIVE_RATIO             0.33\n",
      "RPN_ANCHOR_RATIOS              [0.5, 1, 2]\n",
      "RPN_ANCHOR_SCALES              (8, 16, 32, 64, 128)\n",
      "RPN_ANCHOR_STRIDE              1\n",
      "RPN_BBOX_STD_DEV               [0.1 0.1 0.2 0.2]\n",
      "RPN_NMS_THRESHOLD              0.7\n",
      "RPN_TRAIN_ANCHORS_PER_IMAGE    64\n",
      "STEPS_PER_EPOCH                105\n",
      "TRAIN_BN                       False\n",
      "TRAIN_ROIS_PER_IMAGE           128\n",
      "USE_MINI_MASK                  True\n",
      "USE_RPN_ROIS                   True\n",
      "VALIDATION_STEPS               4\n",
      "WEIGHT_DECAY                   0.0001\n",
      "\n",
      "\n"
     ]
    }
   ],
   "source": [
    "# Dataset directory\n",
    "DATASET_DIR = os.path.join(ROOT_DIR, \"datasets/nucleus\")\n",
    "\n",
    "# Inference Configuration\n",
    "config = nucleus.NucleusInferenceConfig()\n",
    "config.display()"
   ]
  },
  {
   "cell_type": "markdown",
   "metadata": {},
   "source": [
    "## Notebook Preferences"
   ]
  },
  {
   "cell_type": "code",
   "execution_count": 4,
   "metadata": {},
   "outputs": [],
   "source": [
    "# Device to load the neural network on.\n",
    "# Useful if you're training a model on the same \n",
    "# machine, in which case use CPU and leave the\n",
    "# GPU for training.\n",
    "DEVICE = \"/cpu:0\"  # /cpu:0 or /gpu:0\n",
    "\n",
    "# Inspect the model in training or inference modes\n",
    "# values: 'inference' or 'training'\n",
    "# Only inference mode is supported right now\n",
    "TEST_MODE = \"inference\""
   ]
  },
  {
   "cell_type": "code",
   "execution_count": 5,
   "metadata": {},
   "outputs": [],
   "source": [
    "def get_ax(rows=1, cols=1, size=16):\n",
    "    \"\"\"Return a Matplotlib Axes array to be used in\n",
    "    all visualizations in the notebook. Provide a\n",
    "    central point to control graph sizes.\n",
    "    \n",
    "    Adjust the size attribute to control how big to render images\n",
    "    \"\"\"\n",
    "    fig, ax = plt.subplots(rows, cols, figsize=(size*cols, size*rows))\n",
    "    fig.tight_layout()\n",
    "    return ax"
   ]
  },
  {
   "cell_type": "markdown",
   "metadata": {},
   "source": [
    "## Load Validation Dataset"
   ]
  },
  {
   "cell_type": "code",
   "execution_count": 6,
   "metadata": {},
   "outputs": [
    {
     "name": "stdout",
     "output_type": "stream",
     "text": [
      "Images: 25\n",
      "Classes: ['BG', 'nucleus']\n"
     ]
    }
   ],
   "source": [
    "# Load validation dataset\n",
    "dataset = nucleus.NucleusDataset()\n",
    "dataset.load_nucleus(DATASET_DIR, \"val\")\n",
    "dataset.prepare()\n",
    "\n",
    "print(\"Images: {}\\nClasses: {}\".format(len(dataset.image_ids), dataset.class_names))"
   ]
  },
  {
   "cell_type": "markdown",
   "metadata": {},
   "source": [
    "## Load Model"
   ]
  },
  {
   "cell_type": "code",
   "execution_count": 7,
   "metadata": {
    "scrolled": false
   },
   "outputs": [],
   "source": [
    "# Create model in inference mode\n",
    "with tf.device(DEVICE):\n",
    "    model = modellib.MaskRCNN(mode=\"inference\",\n",
    "                              model_dir=LOGS_DIR,\n",
    "                              config=config)"
   ]
  },
  {
   "cell_type": "code",
   "execution_count": 8,
   "metadata": {
    "scrolled": false
   },
   "outputs": [
    {
     "name": "stdout",
     "output_type": "stream",
     "text": [
      "Loading weights  /deeplearning/mask_rcnn/logs/nucleus20180408T2244/mask_rcnn_nucleus_0032.h5\n"
     ]
    }
   ],
   "source": [
    "# Path to a specific weights file\n",
    "# weights_path = \"/path/to/mask_rcnn_nucleus.h5\"\n",
    "\n",
    "# Or, load the last model you trained\n",
    "weights_path = model.find_last()\n",
    "\n",
    "# Load weights\n",
    "print(\"Loading weights \", weights_path)\n",
    "model.load_weights(weights_path, by_name=True)"
   ]
  },
  {
   "cell_type": "markdown",
   "metadata": {},
   "source": [
    "## Run Detection"
   ]
  },
  {
   "cell_type": "code",
   "execution_count": 9,
   "metadata": {
    "scrolled": false
   },
   "outputs": [
    {
     "name": "stdout",
     "output_type": "stream",
     "text": [
      "image ID: nucleus.4193474b2f1c72f735b13633b219d9cabdd43c21d9c2bb4dfc4809f104ba4c06 (20) 4193474b2f1c72f735b13633b219d9cabdd43c21d9c2bb4dfc4809f104ba4c06\n",
      "Original image shape:  [256 320   3]\n",
      "Processing 1 images\n",
      "image                    shape: (512, 640, 3)         min:    1.00000  max:  229.00000  uint8\n",
      "molded_images            shape: (1, 512, 640, 3)      min:    1.00000  max:  229.00000  uint8\n",
      "image_metas              shape: (1, 14)               min:    0.00000  max:  640.00000  float64\n",
      "anchors                  shape: (1, 81840, 4)         min:   -0.17712  max:    1.05188  float32\n",
      "gt_class_id              shape: (12,)                 min:    1.00000  max:    1.00000  int32\n",
      "gt_bbox                  shape: (12, 4)               min:    4.00000  max:  588.00000  int32\n",
      "gt_mask                  shape: (512, 640, 12)        min:    0.00000  max:    1.00000  bool\n",
      "AP @0.50:\t 0.903\n",
      "AP @0.55:\t 0.903\n",
      "AP @0.60:\t 0.903\n",
      "AP @0.65:\t 0.787\n",
      "AP @0.70:\t 0.354\n",
      "AP @0.75:\t 0.354\n",
      "AP @0.80:\t 0.167\n",
      "AP @0.85:\t 0.042\n",
      "AP @0.90:\t 0.042\n",
      "AP @0.95:\t 0.000\n",
      "AP @0.50-0.95:\t 0.445\n"
     ]
    },
    {
     "data": {
      "image/png": "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